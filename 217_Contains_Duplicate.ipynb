{
  "nbformat": 4,
  "nbformat_minor": 0,
  "metadata": {
    "colab": {
      "provenance": [],
      "authorship_tag": "ABX9TyPShG8WRdJN5iPKwQwlg2TC",
      "include_colab_link": true
    },
    "kernelspec": {
      "name": "python3",
      "display_name": "Python 3"
    },
    "language_info": {
      "name": "python"
    }
  },
  "cells": [
    {
      "cell_type": "markdown",
      "metadata": {
        "id": "view-in-github",
        "colab_type": "text"
      },
      "source": [
        "<a href=\"https://colab.research.google.com/github/F4069-Ertan/Leet-code-cozumleri/blob/main/217_Contains_Duplicate.ipynb\" target=\"_parent\"><img src=\"https://colab.research.google.com/assets/colab-badge.svg\" alt=\"Open In Colab\"/></a>"
      ]
    },
    {
      "cell_type": "code",
      "execution_count": 75,
      "metadata": {
        "colab": {
          "base_uri": "https://localhost:8080/"
        },
        "id": "75N2O5ts7nWY",
        "outputId": "9fbd4acb-83db-4db0-f2c7-bd052e6ad83a"
      },
      "outputs": [
        {
          "output_type": "stream",
          "name": "stdout",
          "text": [
            "[1, 2, 3, 4, 4, 5, 6, 7, 8, 9]\n",
            "[0, 1, 2, 3, 4, 5, 6, 7, 8]\n"
          ]
        }
      ],
      "source": [
        "nums = [1,2,3,4,4,5,6,7,8,9]\n",
        "nums.sort()\n",
        "print(nums)\n",
        "print(list(range(len(nums)-1)))"
      ]
    },
    {
      "cell_type": "code",
      "source": [
        "for i in range(len(nums)-1):\n",
        "  sonuç = nums[i] == nums[i+1]\n",
        "  if sonuç == True:\n",
        "    print(\"True\")\n",
        "    break\n",
        "  elif sonuç == False:\n",
        "    pass\n",
        "\n",
        "if sonuç == False:\n",
        "  print(\"False\")\n"
      ],
      "metadata": {
        "colab": {
          "base_uri": "https://localhost:8080/"
        },
        "id": "i4lWUNUV7ptq",
        "outputId": "153f63fb-fd15-4b3c-c293-c5bf3dddfd9d"
      },
      "execution_count": 76,
      "outputs": [
        {
          "output_type": "stream",
          "name": "stdout",
          "text": [
            "True\n"
          ]
        }
      ]
    },
    {
      "cell_type": "code",
      "source": [],
      "metadata": {
        "id": "rFh4nINA7p6C"
      },
      "execution_count": null,
      "outputs": []
    },
    {
      "cell_type": "code",
      "source": [],
      "metadata": {
        "id": "D7_nVSVk7p9A"
      },
      "execution_count": null,
      "outputs": []
    },
    {
      "cell_type": "code",
      "source": [],
      "metadata": {
        "id": "Q3SdZLsh7qAU"
      },
      "execution_count": null,
      "outputs": []
    }
  ]
}